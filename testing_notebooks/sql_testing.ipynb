{
 "cells": [
  {
   "cell_type": "code",
   "execution_count": null,
   "metadata": {},
   "outputs": [],
   "source": [
    "import os\n",
    "cwd=os.getcwd()\n",
    "os.chdir(os.path.dirname(cwd))\n",
    "print(os.getcwd())\n",
    "import json\n",
    "from core.data_ingestion import crunchbase\n",
    "import dotenv\n",
    "dotenv.load_dotenv()\n",
    "\n",
    "from core.sql_analysis import sql_queries\n",
    "\n",
    "%load_ext autoreload\n",
    "%autoreload 2"
   ]
  },
  {
   "cell_type": "code",
   "execution_count": 3,
   "metadata": {},
   "outputs": [],
   "source": [
    "import psycopg2\n",
    "conn = psycopg2.connect(\n",
    "    dbname=\"startup_database\",\n",
    "    user=\"postgres\",\n",
    "    password=os.getenv(\"DB_PASSWORD\"),\n",
    "    host=\"localhost\",\n",
    "    port=\"5432\"\n",
    ")\n",
    "cur=conn.cursor()"
   ]
  },
  {
   "cell_type": "code",
   "execution_count": null,
   "metadata": {},
   "outputs": [],
   "source": [
    "# get all records\n",
    "cur.execute(\n",
    "\"\"\"\n",
    "SELECT * FROM crunchbase\n",
    "\"\"\"\n",
    ")\n",
    "cur.fetchall()"
   ]
  },
  {
   "cell_type": "code",
   "execution_count": null,
   "metadata": {},
   "outputs": [],
   "source": [
    "# get all records sorted by cb_rank\n",
    "cur.execute(\"\"\"\n",
    "SELECT * FROM crunchbase\n",
    "ORDER BY cb_rank ASC\n",
    "LIMIT 100\n",
    "\"\"\")\n",
    "records=cur.fetchall()\n",
    "print(len(records))\n",
    "records"
   ]
  },
  {
   "cell_type": "code",
   "execution_count": null,
   "metadata": {},
   "outputs": [],
   "source": [
    "# get records with employees>50 and cb_rank>3000\n",
    "cur.execute(\"\"\"\n",
    "SELECT * FROM crunchbase\n",
    "WHERE employees>50 AND cb_rank<3000\n",
    "\"\"\")\n",
    "records=cur.fetchall()\n",
    "print(len(records))\n",
    "records"
   ]
  },
  {
   "cell_type": "code",
   "execution_count": null,
   "metadata": {},
   "outputs": [],
   "source": [
    "# get all records with industry=='automation'\n",
    "#LEFT JOIN crunchbase, ic on crunchbase.primary_key, ic.crunchbase_primary_key\n",
    "\n",
    "cur.execute(\"\"\"\n",
    "SELECT * \n",
    "FROM industry_connections ic\n",
    "WHERE ic.industry_name='Communications Infrastructure';\n",
    "\"\"\")\n",
    "records=cur.fetchall()\n",
    "print(len(records))\n",
    "records"
   ]
  },
  {
   "cell_type": "code",
   "execution_count": null,
   "metadata": {},
   "outputs": [],
   "source": [
    "# search for a specific industry in the top 200 crucnhbase companies sorted by cb_rank, with a limit of 1000 industry datapoints randomly sorted\n",
    "cur.execute(\"\"\"\n",
    "WITH top_200 AS (\n",
    "    SELECT * FROM crunchbase\n",
    "    ORDER BY cb_rank ASC\n",
    "    limit 200    \n",
    "), industry_1000 AS (\n",
    "    SELECT * FROM industry_connections\n",
    "    ORDER BY random()\n",
    "    LIMIT 1000\n",
    ")\n",
    "SELECT * FROM top_200\n",
    "LEFT JOIN industry_1000 ON top_200.primary_key=industry_1000.crunchbase_primary_key\n",
    "WHERE industry_name='Communications Infrastructure';\n",
    "\n",
    "\"\"\")\n",
    "records=cur.fetchall()\n",
    "print(len(records))\n",
    "records"
   ]
  },
  {
   "cell_type": "code",
   "execution_count": null,
   "metadata": {},
   "outputs": [],
   "source": [
    "#CASE WHEN cb_rank<3000 THEN 1 ELSE 0 END AS cb_count\n",
    "#SUM(CASE WHEN cb_rank < 3000 THEN 1 ELSE 0 END) OVER () AS total2\n",
    "\n",
    "cur.execute(\"\"\"\n",
    "SELECT cb_rank,\n",
    "        SUM (cb_rank) OVER (ORDER BY employees) AS total,\n",
    "        SUM (CASE WHEN cb_rank < 3000 THEN 1 ELSE 0 END) OVER () AS total2,\n",
    "        AVG (employees) OVER () as total3\n",
    "    FROM crunchbase\n",
    "WHERE cb_rank<20000\n",
    "LIMIT 1\n",
    "\"\"\")\n",
    "records=cur.fetchall()\n",
    "print(len(records))\n",
    "records"
   ]
  },
  {
   "cell_type": "code",
   "execution_count": null,
   "metadata": {},
   "outputs": [],
   "source": [
    "cur.execute(\"\"\"\n",
    "SELECT * from crunchbase\n",
    "\"\"\")\n",
    "records=cur.fetchall()\n",
    "print(len(records))\n",
    "records\n",
    "cur.execute(\"ROLLBACK\")"
   ]
  }
 ],
 "metadata": {
  "kernelspec": {
   "display_name": "env",
   "language": "python",
   "name": "python3"
  },
  "language_info": {
   "codemirror_mode": {
    "name": "ipython",
    "version": 3
   },
   "file_extension": ".py",
   "mimetype": "text/x-python",
   "name": "python",
   "nbconvert_exporter": "python",
   "pygments_lexer": "ipython3",
   "version": "3.11.3"
  }
 },
 "nbformat": 4,
 "nbformat_minor": 2
}
