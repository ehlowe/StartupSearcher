{
 "cells": [
  {
   "cell_type": "code",
   "execution_count": null,
   "metadata": {},
   "outputs": [],
   "source": [
    "import os\n",
    "cwd=os.getcwd()\n",
    "os.chdir(os.path.dirname(cwd))\n",
    "print(os.getcwd())\n",
    "import json\n",
    "from core.data_ingestion import crunchbase\n",
    "import dotenv\n",
    "dotenv.load_dotenv()\n",
    "\n",
    "\n",
    "%load_ext autoreload\n",
    "%autoreload 2\n",
    "\n",
    "raw_crunchbase_data=json.loads(open('raw_crunchbase_data.json').read())"
   ]
  },
  {
   "cell_type": "code",
   "execution_count": null,
   "metadata": {},
   "outputs": [],
   "source": [
    "print(list(raw_crunchbase_data.values())[0])"
   ]
  },
  {
   "cell_type": "code",
   "execution_count": null,
   "metadata": {},
   "outputs": [],
   "source": [
    "print(crunchbase.process_raw_row_data(list(raw_crunchbase_data.values())[1]))"
   ]
  },
  {
   "cell_type": "code",
   "execution_count": null,
   "metadata": {},
   "outputs": [],
   "source": [
    "all_processed_data=[]\n",
    "for key, value in raw_crunchbase_data.items(): \n",
    "    processed_row=crunchbase.process_raw_row_data(value)\n",
    "    all_processed_data.append(processed_row)"
   ]
  },
  {
   "cell_type": "code",
   "execution_count": null,
   "metadata": {},
   "outputs": [],
   "source": [
    "from core.database import models\n",
    "\n",
    "def format_value(value, field_type):\n",
    "    if value is None:\n",
    "        return 'NULL'\n",
    "    if field_type in ['TEXT', 'DATE']:\n",
    "        return f\"'{value.replace(\"'\", \"''\")}' \"  # Escape single quotes in the data\n",
    "    return str(value)\n",
    "\n",
    "def generate_insert_statement(row):\n",
    "    fields = ', '.join(models.crunchbase_fields.keys())\n",
    "    values = ', '.join(format_value(row.get(field), field_type) \n",
    "                       for field, field_type in models.crunchbase_fields.items())\n",
    "    return f\"INSERT INTO crunchbase ({fields}) VALUES ({values});\"\n",
    "\n",
    "# Assuming all_processed_data is a list of dictionaries\n",
    "for row in all_processed_data[0:1]:\n",
    "    if row:\n",
    "        insert_statement = generate_insert_statement(row)\n",
    "        print(insert_statement)"
   ]
  },
  {
   "cell_type": "markdown",
   "metadata": {},
   "source": [
    "# Saving Data"
   ]
  },
  {
   "cell_type": "markdown",
   "metadata": {},
   "source": [
    "# TESTING"
   ]
  },
  {
   "cell_type": "code",
   "execution_count": 7,
   "metadata": {},
   "outputs": [],
   "source": [
    "from core.scripts import initializations"
   ]
  },
  {
   "cell_type": "code",
   "execution_count": 22,
   "metadata": {},
   "outputs": [],
   "source": [
    "from core.scripts import misc"
   ]
  },
  {
   "cell_type": "code",
   "execution_count": null,
   "metadata": {},
   "outputs": [],
   "source": [
    "list(misc.get_all_industry_types(all_processed_data))"
   ]
  },
  {
   "cell_type": "markdown",
   "metadata": {},
   "source": [
    "# VIEWING"
   ]
  },
  {
   "cell_type": "code",
   "execution_count": 2,
   "metadata": {},
   "outputs": [],
   "source": [
    "import psycopg2\n",
    "conn = psycopg2.connect(\n",
    "    dbname=\"startup_database\",\n",
    "    user=\"postgres\",\n",
    "    password=os.getenv(\"DB_PASSWORD\"),\n",
    "    host=\"localhost\",\n",
    "    port=\"5432\"\n",
    ")"
   ]
  },
  {
   "cell_type": "code",
   "execution_count": null,
   "metadata": {},
   "outputs": [],
   "source": [
    "from core.database import models, helpers\n",
    "list(models.crunchbase_fields.keys())[0]"
   ]
  },
  {
   "cell_type": "code",
   "execution_count": null,
   "metadata": {},
   "outputs": [],
   "source": [
    "# load crunchbase table and print the first row\n",
    "cur = conn.cursor()\n",
    "cur.execute(\"SELECT * FROM crunchbase\")\n",
    "records = cur.fetchall()\n",
    "print(records[0])"
   ]
  },
  {
   "cell_type": "code",
   "execution_count": null,
   "metadata": {},
   "outputs": [],
   "source": [
    "raw_crunchbase_data=json.loads(open('raw_crunchbase_data.json').read())\n",
    "print(list(raw_crunchbase_data.values())[0])"
   ]
  },
  {
   "cell_type": "code",
   "execution_count": 18,
   "metadata": {},
   "outputs": [],
   "source": [
    "# delete all data in the table \n",
    "cur = conn.cursor()\n",
    "cur.execute(\"DELETE FROM crunchbase\")\n",
    "conn.commit()\n"
   ]
  },
  {
   "cell_type": "code",
   "execution_count": 14,
   "metadata": {},
   "outputs": [],
   "source": [
    "raw_records=cur.execute(\"SELECT primary_key, industries FROM crunchbase\")"
   ]
  },
  {
   "cell_type": "code",
   "execution_count": 15,
   "metadata": {},
   "outputs": [],
   "source": [
    "raw_records = cur.fetchall()"
   ]
  },
  {
   "cell_type": "code",
   "execution_count": null,
   "metadata": {},
   "outputs": [],
   "source": [
    "print(raw_records)"
   ]
  },
  {
   "cell_type": "code",
   "execution_count": 28,
   "metadata": {},
   "outputs": [],
   "source": [
    "industries = set()\n",
    "simple_industries = set()\n",
    "for record in raw_records:\n",
    "    industries_list=record[-1].split(',')\n",
    "    for industry in industries_list:\n",
    "        industries.add(industry.strip())\n",
    "        simplified_indusry=industry_simplification_mapping.get(industry.strip(),None)\n",
    "        if simplified_indusry:\n",
    "            simple_industries.add(simplified_indusry)\n",
    "        else:\n",
    "            simple_industries.add(industry.strip())"
   ]
  },
  {
   "cell_type": "code",
   "execution_count": null,
   "metadata": {},
   "outputs": [],
   "source": [
    "print(len(industries))"
   ]
  },
  {
   "cell_type": "code",
   "execution_count": null,
   "metadata": {},
   "outputs": [],
   "source": [
    "print(len(simple_industries))"
   ]
  },
  {
   "cell_type": "code",
   "execution_count": null,
   "metadata": {},
   "outputs": [],
   "source": [
    "print(industries)"
   ]
  },
  {
   "cell_type": "code",
   "execution_count": null,
   "metadata": {},
   "outputs": [],
   "source": [
    "test_set=set()\n",
    "for "
   ]
  },
  {
   "cell_type": "code",
   "execution_count": null,
   "metadata": {},
   "outputs": [],
   "source": [
    "len(list(industry_simplification_mapping.keys()))"
   ]
  }
 ],
 "metadata": {
  "kernelspec": {
   "display_name": "env",
   "language": "python",
   "name": "python3"
  },
  "language_info": {
   "codemirror_mode": {
    "name": "ipython",
    "version": 3
   },
   "file_extension": ".py",
   "mimetype": "text/x-python",
   "name": "python",
   "nbconvert_exporter": "python",
   "pygments_lexer": "ipython3",
   "version": "3.11.3"
  }
 },
 "nbformat": 4,
 "nbformat_minor": 2
}
