{
 "cells": [
  {
   "cell_type": "code",
   "execution_count": null,
   "metadata": {},
   "outputs": [],
   "source": [
    "import os\n",
    "cwd=os.getcwd()\n",
    "os.chdir(os.path.dirname(cwd))\n",
    "print(os.getcwd())\n",
    "import json\n",
    "from core.data_ingestion import crunchbase\n",
    "import dotenv\n",
    "dotenv.load_dotenv()\n",
    "\n",
    "\n",
    "%load_ext autoreload\n",
    "%autoreload 2\n",
    "\n",
    "raw_crunchbase_data=json.loads(open('raw_crunchbase_data.json').read())"
   ]
  },
  {
   "cell_type": "code",
   "execution_count": 3,
   "metadata": {},
   "outputs": [],
   "source": [
    "import psycopg2\n",
    "conn = psycopg2.connect(\n",
    "    dbname=\"startup_database\",\n",
    "    user=\"postgres\",\n",
    "    password=os.getenv(\"DB_PASSWORD\"),\n",
    "    host=\"localhost\",\n",
    "    port=\"5432\"\n",
    ")\n",
    "cur = conn.cursor()"
   ]
  },
  {
   "cell_type": "code",
   "execution_count": 6,
   "metadata": {},
   "outputs": [],
   "source": [
    "# get all records\n",
    "cur.execute(\"SELECT * FROM crunchbase;\")\n",
    "crunchbase = cur.fetchall()\n",
    "\n",
    "# get all industries\n",
    "cur.execute(\"SELECT * FROM industry_connections;\")\n",
    "industry_connections = cur.fetchall()"
   ]
  },
  {
   "cell_type": "code",
   "execution_count": 5,
   "metadata": {},
   "outputs": [],
   "source": [
    "\"\"\"Get the counts for where the best companies come from\"\"\"\n",
    "cur.execute(\"\"\"\n",
    "WITH relevant_companies AS (\n",
    "    SELECT DISTINCT c.primary_key, c.cb_rank, c.company_name, c.last_funding_type, c.employees\n",
    "    FROM crunchbase c\n",
    "    LEFT JOIN industry_connections ic ON c.primary_key = ic.crunchbase_primary_key\n",
    "    WHERE ic.industry_name = 'Automation'\n",
    "        OR c.last_funding_type = 'Seed'\n",
    "),\n",
    "all_companies AS (\n",
    "    SELECT *, \n",
    "            ROW_NUMBER() OVER (ORDER BY cb_rank ASC) AS rank_within_set\n",
    "    FROM relevant_companies\n",
    "),\n",
    "combined_data AS (\n",
    "    SELECT \n",
    "        ac.company_name,\n",
    "        ac.last_funding_type,\n",
    "        ic.industry_name,\n",
    "        ac.cb_rank,\n",
    "        CASE WHEN ac.rank_within_set <= 200 THEN 1 ELSE 0 END AS is_top_200,\n",
    "        CASE WHEN ic.industry_name = 'Automation' THEN 1 ELSE 0 END AS is_automation,\n",
    "        CASE WHEN ac.last_funding_type = 'Seed' THEN 1 ELSE 0 END AS is_seed_funding,\n",
    "        CASE WHEN ac.last_funding_type = 'Early Stage Venture' THEN 1 ELSE 0 END AS is_venture_funding,\n",
    "        CASE WHEN ac.employees = 101 then 1 else 0 end as is_large_company,\n",
    "        ROW_NUMBER() OVER (PARTITION BY ac.company_name ORDER BY \n",
    "            CASE WHEN ic.industry_name = 'Automation' THEN 0 ELSE 1 END, \n",
    "            ic.industry_name\n",
    "        ) AS row_num\n",
    "    FROM all_companies ac\n",
    "    LEFT JOIN industry_connections ic ON ac.primary_key = ic.crunchbase_primary_key\n",
    "),\n",
    "deduplicated_data AS (\n",
    "    SELECT *\n",
    "    FROM combined_data\n",
    "    WHERE row_num = 1\n",
    ")\n",
    "SELECT \n",
    "    company_name,\n",
    "    last_funding_type,\n",
    "    industry_name,\n",
    "    SUM(is_top_200) OVER () AS total_top_200,\n",
    "    SUM(is_automation) OVER () AS total_automation,\n",
    "    SUM(is_seed_funding) OVER () AS total_seed_funding,\n",
    "    SUM(is_venture_funding) OVER () AS total_venture_funding,\n",
    "    SUM(is_large_company) OVER () AS total_large_companies\n",
    "\n",
    "FROM deduplicated_data\n",
    "ORDER BY cb_rank ASC NULLS LAST\n",
    "\"\"\")\n",
    "records=cur.fetchall()"
   ]
  },
  {
   "cell_type": "code",
   "execution_count": null,
   "metadata": {},
   "outputs": [],
   "source": [
    "print(records[0])\n",
    "print(len(records))"
   ]
  },
  {
   "cell_type": "code",
   "execution_count": 109,
   "metadata": {},
   "outputs": [],
   "source": [
    "\"\"\"Returns top 200 crunchbase, automation industries, and seed funding companies\"\"\"\n",
    "\n",
    "funding_search_values=[\"'Series A'\", \"'Series B'\",\"'Series C'\", \"'Angel'\", \"'Post-IPO Equity'\", \"'Seed'\"]\n",
    "fuding_search_string=\" OR last_funding_type=\".join(funding_search_values)\n",
    "\n",
    "sql_query = \"\"\"WITH top_companies AS (\n",
    "    SELECT primary_key, cb_rank, company_name, last_funding_type, employees\n",
    "    FROM crunchbase\n",
    "    ORDER BY cb_rank\n",
    "    LIMIT 200\n",
    ")\n",
    "SELECT tc.primary_key, tc.company_name, tc.last_funding_type, ic.industry_name\n",
    "FROM industry_connections ic\n",
    "LEFT JOIN top_companies tc ON ic.crunchbase_primary_key = tc.primary_key\n",
    "WHERE tc.primary_key IS NOT NULL\n",
    "AND ic.industry_name = 'Automation'\n",
    "OR tc.last_funding_type = {fuding_search_string}\n",
    "OR (tc.employees > 10 AND tc.cb_rank\n",
    "ORDER BY tc.cb_rank DESC\n",
    "\n",
    "\n",
    "\"\"\".format(fuding_search_string=fuding_search_string)\n",
    "\n",
    "sql_query = \"\"\"WITH top_200_companies AS (\n",
    "    SELECT primary_key, cb_rank, company_name, last_funding_type\n",
    "    FROM crunchbase\n",
    "    ORDER BY cb_rank\n",
    "    LIMIT 200\n",
    "),\n",
    "seed_companies AS (\n",
    "    SELECT primary_key, cb_rank, company_name, last_funding_type\n",
    "    FROM crunchbase\n",
    "    WHERE last_funding_type = 'Seed'\n",
    "),\n",
    "large_companies AS (\n",
    "    SELECT primary_key, cb_rank, company_name, last_funding_type\n",
    "    FROM crunchbase\n",
    "    WHERE employees > 10\n",
    "),\n",
    "automation_companies AS (\n",
    "    SELECT DISTINCT c.primary_key, c.cb_rank, c.company_name, c.last_funding_type\n",
    "    FROM crunchbase c\n",
    "    JOIN industry_connections ic ON c.primary_key = ic.crunchbase_primary_key\n",
    "    WHERE ic.industry_name = 'Automations'\n",
    "),\n",
    "chemical_companies AS (\n",
    "    SELECT DISTINCT c.primary_key\n",
    "    FROM crunchbase c\n",
    "    JOIN industry_connections ic ON c.primary_key = ic.crunchbase_primary_key\n",
    "    WHERE ic.industry_name = 'Chemical'\n",
    ")\n",
    "SELECT DISTINCT c.*\n",
    "FROM (\n",
    "    SELECT * FROM top_200_companies\n",
    "    UNION\n",
    "    SELECT * FROM seed_companies\n",
    "    UNION\n",
    "    SELECT * FROM large_companies\n",
    "    UNION\n",
    "    SELECT * FROM automation_companies\n",
    ") c\n",
    "WHERE c.primary_key NOT IN (SELECT primary_key FROM chemical_companies)\n",
    "\"\"\"\n",
    "\n",
    "sql_query = \"\"\"WITH top_200_companies AS (\n",
    "    SELECT primary_key, cb_rank, company_name, last_funding_type\n",
    "    FROM crunchbase\n",
    "    ORDER BY cb_rank\n",
    "    LIMIT 200\n",
    "),\n",
    "seed_companies AS (\n",
    "    SELECT primary_key, cb_rank, company_name, last_funding_type\n",
    "    FROM crunchbase\n",
    "    WHERE last_funding_type = {fuding_search_string}\n",
    "),\n",
    "large_companies AS (\n",
    "    SELECT primary_key, cb_rank, company_name, last_funding_type\n",
    "    FROM crunchbase\n",
    "    WHERE (employees > 10 AND cb_rank <100000)\n",
    "),\n",
    "automation_companies AS (\n",
    "    SELECT DISTINCT c.primary_key, c.cb_rank, c.company_name, c.last_funding_type\n",
    "    FROM crunchbase c\n",
    "    JOIN industry_connections ic ON c.primary_key = ic.crunchbase_primary_key\n",
    "    WHERE ic.industry_name = 'Automation'\n",
    "),\n",
    "chemical_companies AS (\n",
    "    SELECT DISTINCT c.primary_key\n",
    "    FROM crunchbase c\n",
    "    JOIN industry_connections ic ON c.primary_key = ic.crunchbase_primary_key\n",
    "    WHERE ic.industry_name = 'Chemical'\n",
    ")\n",
    "SELECT DISTINCT c.*\n",
    "FROM (\n",
    "    SELECT * FROM top_200_companies\n",
    "    UNION\n",
    "    SELECT * FROM large_companies\n",
    "    UNION\n",
    "    SELECT * FROM automation_companies\n",
    "    UNION\n",
    "    SELECT * FROM seed_companies\n",
    "\n",
    ") c\n",
    "WHERE c.primary_key NOT IN (SELECT primary_key FROM chemical_companies)\n",
    "\"\"\".format(fuding_search_string=fuding_search_string)\n",
    "\n",
    "cur.execute(sql_query)\n",
    "records = cur.fetchall()"
   ]
  },
  {
   "cell_type": "code",
   "execution_count": null,
   "metadata": {},
   "outputs": [],
   "source": [
    "    UNION\n",
    "    SELECT * FROM seed_companies\n",
    "    UNION\n",
    "    SELECT * FROM large_companies\n",
    "    UNION\n",
    "    SELECT * FROM automation_companies"
   ]
  },
  {
   "cell_type": "markdown",
   "metadata": {},
   "source": [
    "# Includes\n",
    "- the top 200 companies when sorted by crunchbase.cb_rank (in the database not by cb_rank value, in otherwords not by cb_rank<200 but instead by the top 200 in the dataset when sorted)\n",
    "- all companies with crunchbase.last_funding_type = 'Seed'\n",
    "- all companies with crunchbase.employees > 10\n",
    "- all companies with industry_connections.industry_name='Automations'\n",
    "\n",
    "# Excludes\n",
    "- all companies with industry_connections.industry_name='Chemical'\n",
    "\n",
    "the returned data should duplicate no crunchbase tables\n",
    "\n",
    "\n",
    "# Table context\n",
    "- there are no duplicates in the crunchbase table\n",
    "- A cruncbase company can have many industries connected to it so long as (crunchbase.primary_key=industry_connections.crunchbase_primary_key), this means that there are many industry associations with any company"
   ]
  },
  {
   "cell_type": "code",
   "execution_count": 106,
   "metadata": {},
   "outputs": [],
   "source": [
    "cur.execute(\"ROLLBACK\")"
   ]
  },
  {
   "cell_type": "code",
   "execution_count": null,
   "metadata": {},
   "outputs": [],
   "source": [
    "print(records[0])\n",
    "print(records[1])\n",
    "print(records[2])\n",
    "print(records[3])\n",
    "# print(records[4])\n",
    "print(records[-1])\n",
    "print(len(records))"
   ]
  },
  {
   "cell_type": "code",
   "execution_count": null,
   "metadata": {},
   "outputs": [],
   "source": [
    "print(records[0])\n",
    "print(records[1])\n",
    "print(records[2])\n",
    "print(records[3])\n",
    "# print(records[4])\n",
    "print(records[-1])\n",
    "print(len(records))"
   ]
  },
  {
   "cell_type": "markdown",
   "metadata": {},
   "source": [
    "# all data VIEW"
   ]
  },
  {
   "cell_type": "code",
   "execution_count": null,
   "metadata": {},
   "outputs": [],
   "source": [
    "c=0\n",
    "for company in crunchbase:\n",
    "    p_key=company[0]\n",
    "    for industry_connection in industry_connections:\n",
    "        if industry_connection[0]==p_key:\n",
    "            if industry_connection[1]=='Automation':\n",
    "                c+=1\n",
    "                break\n",
    "print(c)"
   ]
  },
  {
   "cell_type": "code",
   "execution_count": null,
   "metadata": {},
   "outputs": [],
   "source": [
    "crunchbase[0][9]"
   ]
  },
  {
   "cell_type": "code",
   "execution_count": null,
   "metadata": {},
   "outputs": [],
   "source": [
    "c=0\n",
    "types=set()\n",
    "for company in crunchbase:\n",
    "    p_key=company[0]\n",
    "    types.add(company[9])\n",
    "    if company[9]==\"Series B\":\n",
    "        c+=1\n",
    "    # for industry_connection in industry_connections:\n",
    "    #     if industry_connection[0]==p_key:\n",
    "    #         if industry_connection[1]=='Automation':\n",
    "    #             c+=1\n",
    "    #             break\n",
    "print(c)"
   ]
  },
  {
   "cell_type": "code",
   "execution_count": null,
   "metadata": {},
   "outputs": [],
   "source": [
    "crucnh"
   ]
  },
  {
   "cell_type": "code",
   "execution_count": null,
   "metadata": {},
   "outputs": [],
   "source": [
    "print(list(types))"
   ]
  },
  {
   "cell_type": "code",
   "execution_count": null,
   "metadata": {},
   "outputs": [],
   "source": [
    "'Series A', 'Series B','Series C', 'Angel', 'Post-IPO Equity', 'Seed'"
   ]
  },
  {
   "cell_type": "code",
   "execution_count": 99,
   "metadata": {},
   "outputs": [],
   "source": [
    "cur.execute(\"\"\"\n",
    "SELECT * FROM crunchbase\n",
    "ORDER BY cb_rank ASC\n",
    "\"\"\")\n",
    "sorted_companies=cur.fetchall()"
   ]
  },
  {
   "cell_type": "code",
   "execution_count": null,
   "metadata": {},
   "outputs": [],
   "source": [
    "sorted_companies[500]"
   ]
  }
 ],
 "metadata": {
  "kernelspec": {
   "display_name": "env",
   "language": "python",
   "name": "python3"
  },
  "language_info": {
   "codemirror_mode": {
    "name": "ipython",
    "version": 3
   },
   "file_extension": ".py",
   "mimetype": "text/x-python",
   "name": "python",
   "nbconvert_exporter": "python",
   "pygments_lexer": "ipython3",
   "version": "3.11.3"
  }
 },
 "nbformat": 4,
 "nbformat_minor": 2
}
