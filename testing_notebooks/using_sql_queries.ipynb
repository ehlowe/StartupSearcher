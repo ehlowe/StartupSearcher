{
 "cells": [
  {
   "cell_type": "code",
   "execution_count": null,
   "metadata": {},
   "outputs": [],
   "source": [
    "import os\n",
    "cwd=os.getcwd()\n",
    "os.chdir(os.path.dirname(cwd))\n",
    "print(os.getcwd())\n",
    "import json\n",
    "from core.data_ingestion import crunchbase\n",
    "import dotenv\n",
    "dotenv.load_dotenv()\n",
    "\n",
    "from core.sql_analysis import sql_queries\n",
    "\n",
    "%load_ext autoreload\n",
    "%autoreload 2"
   ]
  },
  {
   "cell_type": "code",
   "execution_count": 2,
   "metadata": {},
   "outputs": [],
   "source": [
    "import psycopg2\n",
    "conn = psycopg2.connect(\n",
    "    dbname=\"startup_database\",\n",
    "    user=\"postgres\",\n",
    "    password=os.getenv(\"DB_PASSWORD\"),\n",
    "    host=\"localhost\",\n",
    "    port=\"5432\"\n",
    ")\n",
    "cur=conn.cursor()"
   ]
  },
  {
   "cell_type": "code",
   "execution_count": 4,
   "metadata": {},
   "outputs": [],
   "source": []
  },
  {
   "cell_type": "code",
   "execution_count": null,
   "metadata": {},
   "outputs": [],
   "source": [
    "len(records)"
   ]
  },
  {
   "cell_type": "code",
   "execution_count": 18,
   "metadata": {},
   "outputs": [],
   "source": [
    "records=sql_queries.best_companies(cur)"
   ]
  },
  {
   "cell_type": "code",
   "execution_count": 12,
   "metadata": {},
   "outputs": [],
   "source": [
    "# rollback\n",
    "cur.execute(\"ROLLBACK\")"
   ]
  },
  {
   "cell_type": "code",
   "execution_count": 13,
   "metadata": {},
   "outputs": [],
   "source": [
    "records=sql_queries.industry_counts(cur)"
   ]
  },
  {
   "cell_type": "code",
   "execution_count": null,
   "metadata": {},
   "outputs": [],
   "source": [
    "records"
   ]
  },
  {
   "cell_type": "code",
   "execution_count": 37,
   "metadata": {},
   "outputs": [],
   "source": [
    "records=sql_queries.best_companies_with_counts(cur)"
   ]
  },
  {
   "cell_type": "code",
   "execution_count": null,
   "metadata": {},
   "outputs": [],
   "source": [
    "records"
   ]
  },
  {
   "cell_type": "code",
   "execution_count": null,
   "metadata": {},
   "outputs": [],
   "source": [
    "records=sql_queries.pull_all_early_stage_venture(cur)\n",
    "print(len(records))"
   ]
  },
  {
   "cell_type": "code",
   "execution_count": 51,
   "metadata": {},
   "outputs": [],
   "source": [
    "records=sql_queries.pull_all_crunchbase(cur)"
   ]
  },
  {
   "cell_type": "code",
   "execution_count": null,
   "metadata": {},
   "outputs": [],
   "source": [
    "records[:10]"
   ]
  },
  {
   "cell_type": "code",
   "execution_count": null,
   "metadata": {},
   "outputs": [],
   "source": [
    "records=sql_queries.pull_all_with_seed_funding(cur)\n",
    "print(len(records))"
   ]
  },
  {
   "cell_type": "code",
   "execution_count": null,
   "metadata": {},
   "outputs": [],
   "source": [
    "records=sql_queries.pull_all_automations(cur)\n",
    "print(len(records))"
   ]
  },
  {
   "cell_type": "code",
   "execution_count": 56,
   "metadata": {},
   "outputs": [],
   "source": [
    "from PIL import Image\n",
    "\n",
    "def resize_image(input_path, output_path, size=(128, 128)):\n",
    "    with Image.open(input_path) as img:\n",
    "        resized_img = img.resize(size)\n",
    "        resized_img.save(output_path)\n",
    "\n",
    "#resize_image(r'D:\\DestinyFolder\\DestinyRecaps\\DestinyRecapsExtension\\extension\\transparent_destinyrecaps.png',r'D:\\DestinyFolder\\DestinyRecaps\\DestinyRecapsExtension\\extension\\transparent_destinyrecaps_128.png')\n",
    "\n",
    "def resize_image(input_path, output_path, size=(640, 400)):\n",
    "    with Image.open(input_path) as img:\n",
    "        resized_img = img.resize(size)\n",
    "        resized_img.save(output_path)\n",
    "\n",
    "resize_image(r'C:\\Users\\Ethan\\Downloads\\Screenshot 2024-09-28 014853.png', r'C:\\Users\\Ethan\\Downloads\\Screenshot 2024-09-28 014853_640.png')"
   ]
  },
  {
   "cell_type": "code",
   "execution_count": 5,
   "metadata": {},
   "outputs": [],
   "source": [
    "records=sql_queries.best_companies_counts(cur)"
   ]
  },
  {
   "cell_type": "code",
   "execution_count": null,
   "metadata": {},
   "outputs": [],
   "source": [
    "records"
   ]
  },
  {
   "cell_type": "code",
   "execution_count": null,
   "metadata": {},
   "outputs": [],
   "source": [
    "# To get the sum of size_11_companies\n",
    "cur.execute(\"\"\"\n",
    "WITH top_200 AS (\n",
    "    SELECT *\n",
    "    FROM crunchbase\n",
    "    ORDER BY cb_rank ASC\n",
    "    LIMIT 200\n",
    ")\n",
    "SELECT \n",
    "    SUM(CASE WHEN employees = 11 THEN 1 ELSE 0 END) AS total_size_11_companies\n",
    "FROM top_200\n",
    "\"\"\")\n",
    "\n",
    "total_size_11_companies = cur.fetchone()[0]\n",
    "print(total_size_11_companies)"
   ]
  },
  {
   "cell_type": "code",
   "execution_count": 23,
   "metadata": {},
   "outputs": [],
   "source": [
    "cur.execute(\"ROLLBACK\")"
   ]
  },
  {
   "cell_type": "markdown",
   "metadata": {},
   "source": [
    "# ALL "
   ]
  },
  {
   "cell_type": "code",
   "execution_count": 7,
   "metadata": {},
   "outputs": [],
   "source": [
    "# \n",
    "cur.execute(\"\"\"\n",
    "            SELECT * FROM crunchbase\n",
    "\"\"\")\n",
    "records=cur.fetchall()"
   ]
  },
  {
   "cell_type": "code",
   "execution_count": null,
   "metadata": {},
   "outputs": [],
   "source": [
    "records[0]"
   ]
  },
  {
   "cell_type": "code",
   "execution_count": null,
   "metadata": {},
   "outputs": [],
   "source": [
    "x=11\n",
    "size_x_companies=0\n",
    "for record in records:\n",
    "    if record[2]==x:\n",
    "        size_x_companies+=1\n",
    "\n",
    "size_x_companies"
   ]
  },
  {
   "cell_type": "code",
   "execution_count": null,
   "metadata": {},
   "outputs": [],
   "source": [
    "# \n",
    "cur.execute(\"\"\"\n",
    "SELECT * FROM crunchbase\n",
    "    CASE WHEN employees = 11 THEN 1 ELSE 0 END AS size_11_companies\n",
    "            \n",
    "SELECT\n",
    "    SUM(size_11_companies) AS total_size_11_companies,\n",
    "\"\"\")\n",
    "records=cur.fetchall()"
   ]
  },
  {
   "cell_type": "code",
   "execution_count": null,
   "metadata": {},
   "outputs": [],
   "source": [
    "# To get the sum of size_11_companies\n",
    "cur.execute(\"\"\"\n",
    "    SELECT \n",
    "        SUM(CASE WHEN employees = 11 THEN 1 ELSE 0 END) AS total_size_11_companies\n",
    "    FROM crunchbase\n",
    "\"\"\")\n",
    "\n",
    "total_size_11_companies = cur.fetchone()[0]\n",
    "print(total_size_11_companies)"
   ]
  }
 ],
 "metadata": {
  "kernelspec": {
   "display_name": "env",
   "language": "python",
   "name": "python3"
  },
  "language_info": {
   "codemirror_mode": {
    "name": "ipython",
    "version": 3
   },
   "file_extension": ".py",
   "mimetype": "text/x-python",
   "name": "python",
   "nbconvert_exporter": "python",
   "pygments_lexer": "ipython3",
   "version": "3.11.3"
  }
 },
 "nbformat": 4,
 "nbformat_minor": 2
}
