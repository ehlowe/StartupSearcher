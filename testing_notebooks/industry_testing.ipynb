{
 "cells": [
  {
   "cell_type": "code",
   "execution_count": null,
   "metadata": {},
   "outputs": [],
   "source": [
    "import os\n",
    "cwd=os.getcwd()\n",
    "os.chdir(os.path.dirname(cwd))\n",
    "print(os.getcwd())\n",
    "import json\n",
    "from core.data_ingestion import crunchbase\n",
    "import dotenv\n",
    "dotenv.load_dotenv()\n",
    "\n",
    "\n",
    "%load_ext autoreload\n",
    "%autoreload 2"
   ]
  },
  {
   "cell_type": "code",
   "execution_count": 7,
   "metadata": {},
   "outputs": [],
   "source": [
    "import psycopg2\n",
    "conn = psycopg2.connect(\n",
    "    dbname=\"startup_database\",\n",
    "    user=\"postgres\",\n",
    "    password=os.getenv(\"DB_PASSWORD\"),\n",
    "    host=\"localhost\",\n",
    "    port=\"5432\"\n",
    ")"
   ]
  },
  {
   "cell_type": "code",
   "execution_count": 8,
   "metadata": {},
   "outputs": [],
   "source": [
    "cur=conn.cursor()"
   ]
  },
  {
   "cell_type": "code",
   "execution_count": 11,
   "metadata": {},
   "outputs": [],
   "source": [
    "cur.execute(\"SELECT * FROM industry_connections\")\n",
    "industry_connections=cur.fetchall()"
   ]
  },
  {
   "cell_type": "code",
   "execution_count": 8,
   "metadata": {},
   "outputs": [],
   "source": [
    "# delete all rows from industry_connections\n",
    "cur.execute(\"DELETE FROM industry_connections\")\n",
    "conn.commit()"
   ]
  },
  {
   "cell_type": "code",
   "execution_count": 37,
   "metadata": {},
   "outputs": [],
   "source": [
    "# join \n",
    "cur.execute(\"\"\"\n",
    "SELECT crunchbase.company_name, industry_connections.industry_name\n",
    "FROM crunchbase\n",
    "JOIN industry_connections ON crunchbase.primary_key = industry_connections.crunchbase_primary_key\"\"\"\n",
    ")\n",
    "rows=cur.fetchall()\n"
   ]
  },
  {
   "cell_type": "code",
   "execution_count": null,
   "metadata": {},
   "outputs": [],
   "source": [
    "industry_set=set()\n",
    "for row in rows:\n",
    "    industry_set.add(row[1])\n",
    "print(len(industry_set))"
   ]
  },
  {
   "cell_type": "code",
   "execution_count": null,
   "metadata": {},
   "outputs": [],
   "source": [
    "cur.execute(\"\"\"SELECT industry_connections.industry_name, COUNT(ci.company_id) as company_count\n",
    "FROM company_industries ci\n",
    "JOIN industries i ON ci.industry_id = i.id\n",
    "GROUP BY i.industry_name\n",
    "ORDER BY company_count DESC\n",
    "LIMIT 10;\"\"\")\n",
    "data=cur.fetchall()"
   ]
  },
  {
   "cell_type": "code",
   "execution_count": 48,
   "metadata": {},
   "outputs": [],
   "source": [
    "cur.execute(\"\"\"SELECT industry_name, COUNT(*) as company_count\n",
    "FROM industry_connections\n",
    "GROUP BY industry_name\n",
    "ORDER BY company_count DESC\n",
    "LIMIT 15;\"\"\")\n",
    "data=cur.fetchall()"
   ]
  },
  {
   "cell_type": "code",
   "execution_count": 24,
   "metadata": {},
   "outputs": [],
   "source": [
    "# same as above but only the top 100 when sorted by cb_rank in acending order\n",
    "cur.execute(\"\"\"SELECT industry_name, COUNT(*) as company_count\n",
    "FROM (\n",
    "    SELECT ic.industry_name, c.cb_rank\n",
    "    FROM industry_connections ic\n",
    "    JOIN crunchbase c ON ic.crunchbase_primary_key = c.primary_key\n",
    "    ORDER BY c.cb_rank\n",
    "    LIMIT 200\n",
    ") top_companies\n",
    "GROUP BY industry_name\n",
    "ORDER BY company_count DESC\n",
    "LIMIT 100;\"\"\")\n"
   ]
  },
  {
   "cell_type": "code",
   "execution_count": 31,
   "metadata": {},
   "outputs": [],
   "source": [
    "cur.execute(\"\"\"WITH top_companies AS (\n",
    "    SELECT primary_key\n",
    "    FROM crunchbase\n",
    "    ORDER BY cb_rank\n",
    "    LIMIT 100\n",
    ")\n",
    "SELECT ic.industry_name, COUNT(*) as company_count\n",
    "FROM industry_connections ic\n",
    "JOIN top_companies tc ON ic.crunchbase_primary_key = tc.primary_key\n",
    "GROUP BY ic.industry_name\n",
    "ORDER BY company_count DESC\n",
    "LIMIT 100;\"\"\")\n",
    "keys=[]\n",
    "values=[]\n",
    "for industry, count in data:\n",
    "    keys.append(industry)\n",
    "    values.append(count)\n",
    "    "
   ]
  },
  {
   "cell_type": "code",
   "execution_count": 28,
   "metadata": {},
   "outputs": [],
   "source": [
    "data=cur.fetchall()"
   ]
  },
  {
   "cell_type": "code",
   "execution_count": null,
   "metadata": {},
   "outputs": [],
   "source": [
    "data[][0]"
   ]
  },
  {
   "cell_type": "code",
   "execution_count": null,
   "metadata": {},
   "outputs": [],
   "source": [
    "print(len(data))\n",
    "data"
   ]
  }
 ],
 "metadata": {
  "kernelspec": {
   "display_name": "env",
   "language": "python",
   "name": "python3"
  },
  "language_info": {
   "codemirror_mode": {
    "name": "ipython",
    "version": 3
   },
   "file_extension": ".py",
   "mimetype": "text/x-python",
   "name": "python",
   "nbconvert_exporter": "python",
   "pygments_lexer": "ipython3",
   "version": "3.11.3"
  }
 },
 "nbformat": 4,
 "nbformat_minor": 2
}
