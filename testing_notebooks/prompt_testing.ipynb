{
 "cells": [
  {
   "cell_type": "code",
   "execution_count": 4,
   "metadata": {},
   "outputs": [],
   "source": [
    "import os\n",
    "import dotenv\n",
    "dotenv.load_dotenv()\n",
    "\n",
    "from openai import OpenAI"
   ]
  },
  {
   "cell_type": "code",
   "execution_count": null,
   "metadata": {},
   "outputs": [],
   "source": [
    "client = OpenAI(api_key=os.getenv(\"openai\"))\n",
    "\n",
    "response = client.chat.completions.create(\n",
    "  model=\"gpt-4o-mini\",\n",
    "  messages=[\n",
    "    {\n",
    "      \"role\": \"system\",\n",
    "      \"content\": [\n",
    "        {\n",
    "          \"type\": \"text\",\n",
    "          \"text\": \"test\"\n",
    "        }\n",
    "      ]\n",
    "    },\n",
    "    {\n",
    "      \"role\": \"user\",\n",
    "      \"content\": [\n",
    "        {\n",
    "          \"type\": \"text\",\n",
    "          \"text\": \"Write a long poem?\"\n",
    "        }\n",
    "      ]\n",
    "    }\n",
    "  ],\n",
    "  temperature=1,\n",
    "  max_tokens=2048,\n",
    "  top_p=1,\n",
    "  frequency_penalty=0,\n",
    "  presence_penalty=0,\n",
    "  response_format={\n",
    "    \"type\": \"text\"\n",
    "  },\n",
    "  stream=True\n",
    ")\n",
    "for chunk in response:\n",
    "    print(chunk.choices[0].delta.content, end= '')"
   ]
  },
  {
   "cell_type": "code",
   "execution_count": null,
   "metadata": {},
   "outputs": [],
   "source": [
    "import psycopg2\n",
    "conn = psycopg2.connect(\n",
    "    dbname=\"startup_database\",\n",
    "    user=\"postgres\",\n",
    "    password=os.getenv(\"DB_PASSWORD\"),\n",
    "    host=\"localhost\",\n",
    "    port=\"5432\"\n",
    ")\n",
    "cur = conn.cursor()\n",
    "cur.execute(\"SELECT * FROM crunchbase ORDER BY CB_Rank LIMIT 200\")\n",
    "\n",
    "records = cur.fetchall()"
   ]
  },
  {
   "cell_type": "code",
   "execution_count": null,
   "metadata": {},
   "outputs": [],
   "source": [
    "len(records)"
   ]
  },
  {
   "cell_type": "code",
   "execution_count": 14,
   "metadata": {},
   "outputs": [],
   "source": [
    "from core.database import models"
   ]
  },
  {
   "cell_type": "code",
   "execution_count": null,
   "metadata": {},
   "outputs": [],
   "source": [
    "class_keys=list(models.crunchbase_fields.keys())\n",
    "company_name_index=class_keys.index(\"Company_Name\")\n",
    "company_description_index=class_keys.index(\"Short_Description\")\n",
    "companies_context_prompt=\"\"\n",
    "for i, record in enumerate(records[0:20]):\n",
    "    companies_context_prompt+=\"ID: \"+str(i)+\" | Name: \"+record[company_name_index]+\" | Description: \"+record[company_description_index]+\"\\n\"\n",
    "    # print(\"ID: \"+str(i)+\" | Name: \"+record[company_name_index]+\" | Description: \"+record[company_description_index])\n",
    "print(len(companies_context_prompt))"
   ]
  },
  {
   "cell_type": "code",
   "execution_count": null,
   "metadata": {},
   "outputs": [],
   "source": [
    "client = OpenAI(api_key=os.getenv(\"openai\"))\n",
    "\n",
    "response = client.chat.completions.create(\n",
    "  model=\"gpt-4o-mini\",\n",
    "  messages=[\n",
    "    {\n",
    "      \"role\": \"system\",\n",
    "      \"content\": [\n",
    "        {\n",
    "          \"type\": \"text\",\n",
    "          \"text\": \"You are to give a rating 0-5 for a each company given to you. Format your response as follows 'ID: 0 | Rating: 5\\nID: 1 | Rating: 4\\n...' where 0 is the ID of the company and 5 is the rating you give the company.\"\n",
    "        }\n",
    "      ]\n",
    "    },\n",
    "    {\n",
    "      \"role\": \"user\",\n",
    "      \"content\": [\n",
    "        {\n",
    "          \"type\": \"text\",\n",
    "          \"text\": companies_context_prompt\n",
    "        }\n",
    "      ]\n",
    "    }\n",
    "  ],\n",
    "  temperature=1,\n",
    "  max_tokens=4048,\n",
    "  top_p=1,\n",
    "  frequency_penalty=0,\n",
    "  presence_penalty=0,\n",
    "  response_format={\n",
    "    \"type\": \"text\"\n",
    "  },\n",
    "  stream=True\n",
    ")\n",
    "response_str=\"\"\n",
    "temp_string=\"\"\n",
    "rating_list=[]\n",
    "for chunk in response:\n",
    "    if chunk.choices[0].delta.content!=None:\n",
    "        response_str+=chunk.choices[0].delta.content\n",
    "        temp_string+=chunk.choices[0].delta.content\n",
    "\n",
    "        if '\\n' in temp_string:\n",
    "            # print(temp_string)\n",
    "            rating_list.append(temp_string.split(\"Rating:\")[-1].strip())\n",
    "            print(rating_list[-1])\n",
    "            temp_string=\"\"\n",
    "\n",
    "\n",
    "\n",
    "        # print(chunk.choices[0].delta.content, end= '')\n",
    "    else:\n",
    "        # print(temp_string)\n",
    "        rating_list.append(temp_string.split(\"Rating:\".strip()))\n",
    "\n",
    "        print(rating_list[-1])\n"
   ]
  },
  {
   "cell_type": "code",
   "execution_count": 2,
   "metadata": {},
   "outputs": [],
   "source": [
    "from dotenv import load_dotenv\n",
    "load_dotenv()\n",
    "from core.ai import providers"
   ]
  },
  {
   "cell_type": "code",
   "execution_count": 4,
   "metadata": {},
   "outputs": [],
   "source": [
    "%load_ext autoreload\n",
    "%autoreload 2"
   ]
  },
  {
   "cell_type": "code",
   "execution_count": null,
   "metadata": {},
   "outputs": [],
   "source": [
    "providers.ModelSelector.llama70b.model_provider"
   ]
  },
  {
   "cell_type": "code",
   "execution_count": 5,
   "metadata": {},
   "outputs": [],
   "source": [
    "test=providers.AIModel(\"llama70b\",\"test\")"
   ]
  },
  {
   "cell_type": "code",
   "execution_count": null,
   "metadata": {},
   "outputs": [],
   "source": [
    "test.model_provider"
   ]
  },
  {
   "cell_type": "code",
   "execution_count": null,
   "metadata": {},
   "outputs": [],
   "source": [
    "print(providers.ModelSelector.llama70b)"
   ]
  },
  {
   "cell_type": "code",
   "execution_count": null,
   "metadata": {},
   "outputs": [],
   "source": [
    "test_dict={\"1\":\"test\",2:\"test2\"}\n",
    "# remove key \"1\" from test_dict\n",
    "test_dict.pop(\"1\")\n",
    "test_dict"
   ]
  },
  {
   "cell_type": "code",
   "execution_count": null,
   "metadata": {},
   "outputs": [],
   "source": [
    "prompt=[\n",
    "    {\n",
    "        \"role\": \"system\",\n",
    "        \"content\":  \"You are to give a rating 0-5 for a each company given to you. Format your response as follows 'ID: 0 | Thoughts on company in relation to user's message | Rating: 5\\nID: 1 | Thoughts on company in relation to user's message | Rating: 4\\n...' where 0 is the ID of the company and 5 is the rating you give the company.\" \n",
    "    },\n",
    "    {\n",
    "        \"role\": \"user\",\n",
    "        \"content\": \"Test\"\n",
    "    },\n",
    "]\n",
    "\n"
   ]
  }
 ],
 "metadata": {
  "kernelspec": {
   "display_name": "env",
   "language": "python",
   "name": "python3"
  },
  "language_info": {
   "codemirror_mode": {
    "name": "ipython",
    "version": 3
   },
   "file_extension": ".py",
   "mimetype": "text/x-python",
   "name": "python",
   "nbconvert_exporter": "python",
   "pygments_lexer": "ipython3",
   "version": "3.11.3"
  }
 },
 "nbformat": 4,
 "nbformat_minor": 2
}
